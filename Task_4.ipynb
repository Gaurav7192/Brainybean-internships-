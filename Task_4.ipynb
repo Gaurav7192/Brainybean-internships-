{
  "nbformat": 4,
  "nbformat_minor": 0,
  "metadata": {
    "colab": {
      "provenance": [],
      "authorship_tag": "ABX9TyM1F+9COR9ZLxYq08BmIp2v",
      "include_colab_link": true
    },
    "kernelspec": {
      "name": "python3",
      "display_name": "Python 3"
    },
    "language_info": {
      "name": "python"
    }
  },
  "cells": [
    {
      "cell_type": "markdown",
      "metadata": {
        "id": "view-in-github",
        "colab_type": "text"
      },
      "source": [
        "<a href=\"https://colab.research.google.com/github/Gaurav7192/Brainybean-internships-/blob/main/Task_4.ipynb\" target=\"_parent\"><img src=\"https://colab.research.google.com/assets/colab-badge.svg\" alt=\"Open In Colab\"/></a>"
      ]
    },
    {
      "cell_type": "code",
      "execution_count": null,
      "metadata": {
        "id": "JRrELvfOM9Lr"
      },
      "outputs": [],
      "source": [
        "\n",
        "import pandas as pd\n",
        "\n",
        "data = {\n",
        "    'Date': ['2024-10-01', '2024-10-01', '2024-10-02', '2024-10-02', '2024-10-03', '2024-10-03'],\n",
        "    'Product': ['A', 'B', 'A', 'B', 'A', 'B'],\n",
        "    'Sales': [100, 150, 110, 140, 120, 130],\n",
        "    'Quantity': [10, 15, 11, 14, 12, 13]\n",
        "}\n",
        "\n",
        "df = pd.DataFrame(data)\n",
        "\n",
        "pivot_df = df.pivot(index='Date', columns='Product', values='Sales')\n",
        "\n",
        "pivot_table_df = df.pivot_table(index='Date', columns='Product', values='Sales', aggfunc='sum')\n",
        "\n",
        "print('Pivot:\\n', pivot_df)\n",
        "print('Pivot Table:\\n', pivot_table_df)"
      ]
    }
  ]
}