{
  "nbformat": 4,
  "nbformat_minor": 0,
  "metadata": {
    "colab": {
      "provenance": [],
      "authorship_tag": "ABX9TyMwj1xtBixwe/wG0Ii6naxm",
      "include_colab_link": true
    },
    "kernelspec": {
      "name": "python3",
      "display_name": "Python 3"
    },
    "language_info": {
      "name": "python"
    }
  },
  "cells": [
    {
      "cell_type": "markdown",
      "metadata": {
        "id": "view-in-github",
        "colab_type": "text"
      },
      "source": [
        "<a href=\"https://colab.research.google.com/github/Gaurav7192/Brainybean-internships-/blob/main/Task_2.ipynb\" target=\"_parent\"><img src=\"https://colab.research.google.com/assets/colab-badge.svg\" alt=\"Open In Colab\"/></a>"
      ]
    },
    {
      "cell_type": "code",
      "execution_count": null,
      "metadata": {
        "id": "cjijpQ2cLwG_"
      },
      "outputs": [],
      "source": [
        "\n",
        "import numpy as np\n",
        "\n",
        "A = np.array([[3, 1, 1], [-1, 3, 1]])\n",
        "\n",
        "U, S, Vt = np.linalg.svd(A)\n",
        "\n",
        "S_matrix = np.zeros((U.shape[1], Vt.shape[0]))\n",
        "S_matrix[:S.shape[0], :S.shape[0]] = np.diag(S)\n",
        "\n",
        "A_reconstructed = np.dot(U, np.dot(S_matrix, Vt))\n",
        "\n",
        "print('Original Matrix:\\n', A)\n",
        "print('Reconstructed Matrix:\\n', A_reconstructed)"
      ]
    }
  ]
}