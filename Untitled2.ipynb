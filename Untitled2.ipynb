{
  "nbformat": 4,
  "nbformat_minor": 0,
  "metadata": {
    "colab": {
      "provenance": [],
      "authorship_tag": "ABX9TyP1VV7iExJFemcD4p96+Otp",
      "include_colab_link": true
    },
    "kernelspec": {
      "name": "python3",
      "display_name": "Python 3"
    },
    "language_info": {
      "name": "python"
    }
  },
  "cells": [
    {
      "cell_type": "markdown",
      "metadata": {
        "id": "view-in-github",
        "colab_type": "text"
      },
      "source": [
        "<a href=\"https://colab.research.google.com/github/Gaurav7192/Brainybean-internships-/blob/main/Untitled2.ipynb\" target=\"_parent\"><img src=\"https://colab.research.google.com/assets/colab-badge.svg\" alt=\"Open In Colab\"/></a>"
      ]
    },
    {
      "cell_type": "code",
      "execution_count": null,
      "metadata": {
        "id": "eYASwWEIab0X"
      },
      "outputs": [],
      "source": [
        "\n",
        "Here is the complete code without comments:\n",
        "\n",
        "import pandas as pd\n",
        "from sklearn.model_selection import train_test_split\n",
        "from sklearn.linear_model import LinearRegression\n",
        "from sklearn.metrics import mean_squared_error\n",
        "import numpy as np\n",
        "\n",
        "data = {\n",
        "    'Age': np.random.randint(18, 60, size=20),\n",
        "    'Experience': np.random.randint(1, 40, size=20),\n",
        "    'Salary': np.random.randint(30000, 120000, size=20),\n",
        "    'Education_Level': np.random.randint(1, 4, size=20),\n",
        "    'Work_Hours_Per_Week': np.random.randint(30, 60, size=20),\n",
        "    'Job_Satisfaction': np.random.randint(1, 10, size=20),\n",
        "    'Years_At_Company': np.random.randint(1, 15, size=20),\n",
        "    'Number_Of_Projects': np.random.randint(1, 10, size=20),\n",
        "    'Performance_Rating': np.random.randint(1, 5, size=20),\n",
        "    'Promotions': np.random.randint(0, 5, size=20)\n",
        "}\n",
        "\n",
        "df = pd.DataFrame(data)\n",
        "\n",
        "X = df[['Age', 'Experience', 'Education_Level', 'Work_Hours_Per_Week',\n",
        "        'Job_Satisfaction', 'Years_At_Company', 'Number_Of_Projects',\n",
        "        'Performance_Rating', 'Promotions']]\n",
        "y = df['Salary']\n",
        "\n",
        "X_train, X_test, y_train, y_test = train_test_split(X, y, test_size=0.2, random_state=42)\n",
        "\n",
        "model = LinearRegression()\n",
        "model.fit(X_train, y_train)\n",
        "\n",
        "y_pred = model.predict(X_test)\n",
        "\n",
        "mse = mean_squared_error(y_test, y_pred)\n",
        "\n",
        "df, mse\n",
        "\n",
        "This is the clean, complete version of the code without any comments."
      ]
    }
  ]
}