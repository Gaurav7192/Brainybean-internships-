{
  "nbformat": 4,
  "nbformat_minor": 0,
  "metadata": {
    "colab": {
      "provenance": [],
      "authorship_tag": "ABX9TyNAs6c83CgTDR+65fVNWrem",
      "include_colab_link": true
    },
    "kernelspec": {
      "name": "python3",
      "display_name": "Python 3"
    },
    "language_info": {
      "name": "python"
    }
  },
  "cells": [
    {
      "cell_type": "markdown",
      "metadata": {
        "id": "view-in-github",
        "colab_type": "text"
      },
      "source": [
        "<a href=\"https://colab.research.google.com/github/Gaurav7192/Brainybean-internships-/blob/main/Task%201.ipynb\" target=\"_parent\"><img src=\"https://colab.research.google.com/assets/colab-badge.svg\" alt=\"Open In Colab\"/></a>"
      ]
    },
    {
      "cell_type": "code",
      "execution_count": null,
      "metadata": {
        "id": "E5UvWyegLKQC"
      },
      "outputs": [],
      "source": [
        "\n",
        "import pandas as pd\n",
        "import numpy as np\n",
        "from sklearn.model_selection import train_test_split\n",
        "from sklearn.linear_model import LinearRegression\n",
        "from sklearn.metrics import mean_squared_error\n",
        "\n",
        "data = {\n",
        "    'Region': np.random.choice(['North', 'South', 'East', 'West'], 20),\n",
        "    'Sales': np.random.randint(1000, 5000, 20),\n",
        "    'Items_Sold': np.random.randint(1, 20, 20),\n",
        "    'Discount': np.random.uniform(0.01, 0.3, 20),\n",
        "    'Ad_Spend': np.random.uniform(500, 2000, 20),\n",
        "    'Marketing_Channel': np.random.choice(['Online', 'TV', 'Radio'], 20),\n",
        "    'Customer_Age': np.random.randint(18, 65, 20),\n",
        "    'Day_Of_Week': np.random.choice(['Mon', 'Tue', 'Wed', 'Thu', 'Fri', 'Sat', 'Sun'], 20),\n",
        "    'Store_Size': np.random.choice(['Small', 'Medium', 'Large'], 20),\n",
        "    'Promotion': np.random.choice([0, 1], 20)\n",
        "}\n",
        "\n",
        "df = pd.DataFrame(data)\n",
        "\n",
        "df_encoded = pd.get_dummies(df, drop_first=True)\n",
        "\n",
        "X = df_encoded.drop('Sales', axis=1)\n",
        "y = df_encoded['Sales']\n",
        "\n",
        "X_train, X_test, y_train, y_test = train_test_split(X, y, test_size=0.2, random_state=42)\n",
        "\n",
        "model = LinearRegression()\n",
        "model.fit(X_train, y_train)\n",
        "\n",
        "y_pred = model.predict(X_test)\n",
        "\n",
        "mse = mean_squared_error(y_test, y_pred)\n",
        "\n",
        "print('Mean Squared Error:', mse)"
      ]
    }
  ]
}