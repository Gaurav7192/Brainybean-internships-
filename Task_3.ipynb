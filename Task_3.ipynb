{
  "nbformat": 4,
  "nbformat_minor": 0,
  "metadata": {
    "colab": {
      "provenance": [],
      "authorship_tag": "ABX9TyMKBQMiX4ELGrdsDbvwOgbj",
      "include_colab_link": true
    },
    "kernelspec": {
      "name": "python3",
      "display_name": "Python 3"
    },
    "language_info": {
      "name": "python"
    }
  },
  "cells": [
    {
      "cell_type": "markdown",
      "metadata": {
        "id": "view-in-github",
        "colab_type": "text"
      },
      "source": [
        "<a href=\"https://colab.research.google.com/github/Gaurav7192/Brainybean-internships-/blob/main/Task_3.ipynb\" target=\"_parent\"><img src=\"https://colab.research.google.com/assets/colab-badge.svg\" alt=\"Open In Colab\"/></a>"
      ]
    },
    {
      "cell_type": "code",
      "execution_count": null,
      "metadata": {
        "id": "DeKyJv-vMblz"
      },
      "outputs": [],
      "source": [
        "\n",
        "import matplotlib.pyplot as plt\n",
        "from mpl_toolkits.basemap import Basemap\n",
        "import numpy as np\n",
        "\n",
        "m = Basemap(projection='merc', llcrnrlat=-60, urcrnrlat=90, llcrnrlon=-180, urcrnrlon=180, resolution='c')\n",
        "\n",
        "m.drawcoastlines()\n",
        "m.drawcountries()\n",
        "\n",
        "lats = np.random.uniform(-60, 90, 100)\n",
        "lons = np.random.uniform(-180, 180, 100)\n",
        "data = np.random.uniform(1, 10, 100)\n",
        "\n",
        "x, y = m(lons, lats)\n",
        "m.scatter(x, y, c=data, cmap='hot', marker='o')\n",
        "\n",
        "plt.colorbar(label='Intensity')\n",
        "plt.title('Geographical Heatmap')\n",
        "plt.show()"
      ]
    }
  ]
}